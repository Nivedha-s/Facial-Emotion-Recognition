{
  "nbformat": 4,
  "nbformat_minor": 0,
  "metadata": {
    "colab": {
      "name": "FER with GridSearchCV.ipynb",
      "provenance": [],
      "collapsed_sections": []
    },
    "kernelspec": {
      "display_name": "Python 3",
      "name": "python3"
    },
    "language_info": {
      "name": "python"
    }
  },
  "cells": [
    {
      "cell_type": "code",
      "metadata": {
        "id": "PNuhJ4w_zit1"
      },
      "source": [
        "from os import listdir\n",
        "from os.path import isfile, join\n",
        "import cv2\n",
        "import numpy as np\n",
        "from keras.models import Model, Sequential\n",
        "from keras.preprocessing import image\n",
        "from tensorflow.keras.utils import to_categorical\n",
        "from keras.layers import Dense, GlobalAveragePooling2D, Flatten\n",
        "from keras.layers import Activation, Dropout\n",
        "from keras.applications.vgg16 import VGG16, preprocess_input\n",
        "from keras.applications.vgg16 import preprocess_input\n",
        "import matplotlib.pyplot as plt\n",
        "from keras.layers import Conv2D\n",
        "from sklearn.model_selection import KFold"
      ],
      "execution_count": null,
      "outputs": []
    },
    {
      "cell_type": "markdown",
      "metadata": {
        "id": "GA_sCEjdY6Rd"
      },
      "source": [
        "To check if GPU runtime is used in Colab"
      ]
    },
    {
      "cell_type": "code",
      "metadata": {
        "id": "L_M2LzQVwO4j"
      },
      "source": [
        "import tensorflow as tf\n",
        "tf.test.gpu_device_name()"
      ],
      "execution_count": null,
      "outputs": []
    },
    {
      "cell_type": "markdown",
      "metadata": {
        "id": "JaIM4DvzZFuN"
      },
      "source": [
        "Uploading the zipped dataset "
      ]
    },
    {
      "cell_type": "code",
      "metadata": {
        "id": "jy9w0pV_3xqf"
      },
      "source": [
        "from google.colab import files\n",
        "uploaded=files.upload()"
      ],
      "execution_count": null,
      "outputs": []
    },
    {
      "cell_type": "markdown",
      "metadata": {
        "id": "IAv9ws7KLMEZ"
      },
      "source": [
        "Unzip the dataset"
      ]
    },
    {
      "cell_type": "code",
      "metadata": {
        "id": "1PXo02mC5jUp"
      },
      "source": [
        "!unzip \"data.zip\""
      ],
      "execution_count": null,
      "outputs": []
    },
    {
      "cell_type": "markdown",
      "metadata": {
        "id": "CMany5kkLUFu"
      },
      "source": [
        "Loading the training set images using imread() of OpenCV"
      ]
    },
    {
      "cell_type": "code",
      "metadata": {
        "id": "r6JrGfCizxpx"
      },
      "source": [
        "path=\"data/train/\"\n",
        "angry = path + \"angry/\"\n",
        "disgusted = path + \"disgusted/\"\n",
        "happy = path + \"happy/\"\n",
        "sad = path + \"sad/\"\n",
        "suprised = path + \"surprised/\"\n",
        "fearful = path + \"fearful/\"\n",
        "neutral = path + \"neutral/\"\n",
        "import os\n",
        "from os import listdir\n",
        "import cv2\n",
        "\n",
        "def loadImages(path):\n",
        "    loadedImages = []\n",
        "    for image in os.listdir(path):\n",
        "        img = cv2.imread(os.path.join(path, image))\n",
        "        img = cv2.resize(img,(50,50))\n",
        "        if img is not None:\n",
        "          loadedImages.append(img)\n",
        "    return loadedImages\n",
        "\n"
      ],
      "execution_count": null,
      "outputs": []
    },
    {
      "cell_type": "code",
      "metadata": {
        "id": "3v6VHPOY1pup"
      },
      "source": [
        "angry_data=loadImages(angry)\n",
        "sad_data=loadImages(sad)\n",
        "neutral_data=loadImages(neutral)\n",
        "suprised_data=loadImages(suprised)\n",
        "happy_data=loadImages(happy)\n",
        "disgusted_data=loadImages(disgusted)\n",
        "fearful_data=loadImages(fearful)\n"
      ],
      "execution_count": null,
      "outputs": []
    },
    {
      "cell_type": "code",
      "metadata": {
        "id": "gKhLO7Sz8-Sb"
      },
      "source": [
        "total_X=[]\n",
        "label=[]\n",
        "\n",
        "for i in range(len(angry_data)):\n",
        "  total_X.append(angry_data[i])\n",
        "  label.append(\"0\")\n",
        "\n",
        "for p in range(len(sad_data)):\n",
        "  total_X.append(sad_data[p])\n",
        "  label.append(\"1\")\n",
        "\n",
        "for j in range(len(suprised_data)):\n",
        "  total_X.append(suprised_data[j])\n",
        "  label.append(\"2\")\n",
        "\n",
        "for l in range(len(happy_data)):\n",
        "  total_X.append(happy_data[l])\n",
        "  label.append(\"3\")\n",
        "\n",
        "for k in range(len(neutral_data)):\n",
        "  total_X.append(neutral_data[k])\n",
        "  label.append(\"4\")\n",
        "\n",
        "for m in range(len(fearful_data)):\n",
        "  total_X.append(fearful_data[m])\n",
        "  label.append(\"5\")\n",
        "\n",
        "for n in range(len(disgusted_data)):\n",
        "  total_X.append(disgusted_data[n])\n",
        "  label.append(\"6\")\n",
        "\n",
        "total_X = np.asarray(total_X)\n",
        "label = np.asarray(label)"
      ],
      "execution_count": null,
      "outputs": []
    },
    {
      "cell_type": "markdown",
      "metadata": {
        "id": "yNgQQ46WLv7D"
      },
      "source": [
        "Data Exploration *Understanding the distribution of data*"
      ]
    },
    {
      "cell_type": "code",
      "metadata": {
        "colab": {
          "base_uri": "https://localhost:8080/",
          "height": 294
        },
        "id": "rZlud131Mvmp",
        "outputId": "9557c987-c388-4a75-a4e7-caa26b162aff"
      },
      "source": [
        "import matplotlib.pyplot as plt\n",
        "\n",
        "left = [1, 2, 3, 4, 5, 6, 7]\n",
        "height = [len(angry_data), len(sad_data), len(suprised_data), len(happy_data), len(neutral_data), len(fearful_data), len(disgusted_data)]\n",
        "\n",
        "tick_label = ['angry', 'sad', 'suprised', 'happy', 'neutral','fearful','disgusted']\n",
        "\n",
        "plt.bar(left, height, tick_label = tick_label,\n",
        "        width = 0.8)\n",
        "plt.xlabel('x - axis')\n",
        "plt.ylabel('y - axis')\n",
        "plt.title('Distribution of training set')\n",
        "\n",
        "plt.show()"
      ],
      "execution_count": null,
      "outputs": [
        {
          "output_type": "display_data",
          "data": {
            "image/png": "[encoded data removed]",
            "text/plain": [
              "<Figure size 432x288 with 1 Axes>"
            ]
          },
          "metadata": {
            "tags": []
          }
        }
      ]
    },
    {
      "cell_type": "code",
      "metadata": {
        "colab": {
          "base_uri": "https://localhost:8080/"
        },
        "id": "xAgKNd3Lk_u2",
        "outputId": "0f7c63c1-4ed6-4641-9db5-d3da21ae302b"
      },
      "source": [
        "print(type(total_X))\n",
        "print(total_X.shape)"
      ],
      "execution_count": null,
      "outputs": [
        {
          "output_type": "stream",
          "text": [
            "<class 'numpy.ndarray'>\n",
            "(28709, 50, 50, 3)\n"
          ],
          "name": "stdout"
        }
      ]
    },
    {
      "cell_type": "markdown",
      "metadata": {
        "id": "WIuwAavrMLCk"
      },
      "source": [
        "Loading the test data using imread() of OpenCV"
      ]
    },
    {
      "cell_type": "code",
      "metadata": {
        "id": "G_pee6tMtj9U"
      },
      "source": [
        "path=\"data/test/\"\n",
        "angry = path + \"angry/\"\n",
        "disgusted = path + \"disgusted/\"\n",
        "happy = path + \"happy/\"\n",
        "sad = path + \"sad/\"\n",
        "suprised = path + \"surprised/\"\n",
        "fearful = path + \"fearful/\"\n",
        "neutral = path + \"neutral/\"\n",
        "import os\n",
        "from os import listdir\n",
        "import cv2\n",
        "\n",
        "def loadImages(path):\n",
        "    loadedImages = []\n",
        "    for image in os.listdir(path):\n",
        "        img = cv2.imread(os.path.join(path, image))\n",
        "        img = cv2.resize(img,(50,50))\n",
        "        if img is not None:\n",
        "          loadedImages.append(img)\n",
        "    return loadedImages\n",
        "\n",
        "\n",
        "angry_data=loadImages(angry)\n",
        "sad_data=loadImages(sad)\n",
        "neutral_data=loadImages(neutral)\n",
        "suprised_data=loadImages(suprised)\n",
        "happy_data=loadImages(happy)\n",
        "disgusted_data=loadImages(disgusted)\n",
        "fearful_data=loadImages(fearful)\n",
        "\n",
        "Val_X=[]\n",
        "Val_label=[]\n",
        "\n",
        "for i in range(958):\n",
        "  Val_X.append(angry_data[i])\n",
        "  Val_label.append(\"0\")\n",
        "\n",
        "#p=0\n",
        "for p in range(1247):\n",
        "  Val_X.append(sad_data[p])\n",
        "  Val_label.append(\"1\")\n",
        "\n",
        "for j in range(831):\n",
        "  Val_X.append(suprised_data[j])\n",
        "  Val_label.append(\"2\")\n",
        "\n",
        "for l in range(1774):\n",
        "  Val_X.append(happy_data[l])\n",
        "  Val_label.append(\"3\")\n",
        "\n",
        "for k in range(1233):\n",
        "  Val_X.append(neutral_data[k])\n",
        "  Val_label.append(\"4\")\n",
        "\n",
        "for m in range(1024):\n",
        "  Val_X.append(fearful_data[m])\n",
        "  Val_label.append(\"5\")\n",
        "\n",
        "for n in range(111):\n",
        "  Val_X.append(disgusted_data[n])\n",
        "  Val_label.append(\"6\")\n",
        "\n",
        "Val_X = np.asarray(Val_X)\n",
        "Val_label = np.asarray(Val_label)\n",
        "\n",
        "\n",
        "\n",
        "Val_label = to_categorical(Val_label)\n"
      ],
      "execution_count": null,
      "outputs": []
    },
    {
      "cell_type": "code",
      "metadata": {
        "colab": {
          "base_uri": "https://localhost:8080/",
          "height": 294
        },
        "id": "w4HNbCYHPQvE",
        "outputId": "e673bbdf-7b1f-4ee4-8651-b09e8eea5d1e"
      },
      "source": [
        "import matplotlib.pyplot as plt\n",
        "\n",
        "left = [1, 2, 3, 4, 5, 6, 7]\n",
        "height = [len(angry_data), len(sad_data), len(suprised_data), len(happy_data), len(neutral_data), len(fearful_data), len(disgusted_data)]\n",
        "\n",
        "tick_label = ['angry', 'sad', 'suprised', 'happy', 'neutral','fearful','disgusted']\n",
        "\n",
        "plt.bar(left, height, tick_label = tick_label,\n",
        "        width = 0.8)\n",
        "plt.xlabel('x - axis')\n",
        "plt.ylabel('y - axis')\n",
        "plt.title('Distribution of testing set')\n",
        "\n",
        "plt.show()"
      ],
      "execution_count": null,
      "outputs": [
        {
          "output_type": "display_data",
          "data": {
            "image/png": "[encoded data removed]",
            "text/plain": [
              "<Figure size 432x288 with 1 Axes>"
            ]
          },
          "metadata": {
            "tags": []
          }
        }
      ]
    },
    {
      "cell_type": "markdown",
      "metadata": {
        "id": "xaX5Y6XkwNkw"
      },
      "source": [
        "Determining training data and testing data"
      ]
    },
    {
      "cell_type": "code",
      "metadata": {
        "id": "x6yhfsHmP8EC"
      },
      "source": [
        "X_train, X_test, y_train, y_test = total_X, Val_X, label, Val_label"
      ],
      "execution_count": null,
      "outputs": []
    },
    {
      "cell_type": "markdown",
      "metadata": {
        "id": "28odiBVMwEue"
      },
      "source": [
        "Defining the CNN model"
      ]
    },
    {
      "cell_type": "code",
      "metadata": {
        "id": "apwBbWo_Om0X"
      },
      "source": [
        "import keras\n",
        "\n",
        "#transfer learning is used here => VGG16 pre-trained model is fine-tuned for FER\n",
        "\n",
        "def create_model():\n",
        "  base_model=VGG16 (weights='imagenet', include_top=False, input_tensor = keras.Input(shape=(50, 50, 3))) \n",
        "  x=base_model.output\n",
        "  x= GlobalAveragePooling2D()(x)\n",
        "  x=Dense(100, activation='relu') (x)\n",
        "  x = Dropout (0.15) (x)\n",
        "  x = Dense (60, activation='relu') (x)\n",
        "  x = Dense (30, activation='relu') (x)\n",
        "  predictions = Dense(7, activation='softmax')(x)\n",
        "  model = Model(inputs=base_model.input, outputs=predictions)\n",
        "  for layer in base_model.layers:\n",
        "    layer.trainable = False\n",
        "  model.compile (loss=\"categorical_crossentropy\", optimizer=\"adam\", metrics=[\"accuracy\"])\n",
        "  return model\n"
      ],
      "execution_count": null,
      "outputs": []
    },
    {
      "cell_type": "markdown",
      "metadata": {
        "id": "NmANa5Fpv_br"
      },
      "source": [
        "Determining the optimal paramters"
      ]
    },
    {
      "cell_type": "code",
      "metadata": {
        "id": "l2KeyOHDXXEK"
      },
      "source": [
        "from keras.wrappers.scikit_learn import KerasClassifier\n",
        "model = KerasClassifier(build_fn=create_model)"
      ],
      "execution_count": null,
      "outputs": []
    },
    {
      "cell_type": "code",
      "metadata": {
        "colab": {
          "background_save": true
        },
        "id": "E2rj0YXoxbkX"
      },
      "source": [
        "from sklearn.model_selection import GridSearchCV\n",
        "\n",
        "epochs = [20,30,40]\n",
        "batch_size = [50,100,150,200]\n",
        "param_grid = dict(batch_size = batch_size, epochs = epochs)\n",
        "grid = GridSearchCV(estimator = model, param_grid=param_grid)\n",
        "grid_result = grid.fit(X_train, y_train)\n",
        "#will print the epochs and batch-size that yielded the best accuracy\n",
        "print(\"Best: %f using %s\" % (grid_result.best_score_, grid_result.best_params_))\n"
      ],
      "execution_count": null,
      "outputs": []
    }
  ]
}